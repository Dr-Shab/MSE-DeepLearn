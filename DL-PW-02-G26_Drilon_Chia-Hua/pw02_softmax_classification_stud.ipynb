{
 "cells": [
  {
   "cell_type": "markdown",
   "id": "f845986f-2c08-4561-82e0-b045783f29b7",
   "metadata": {},
   "source": [
    "For installing torchsummary use `pip install torchsummary`"
   ]
  },
  {
   "cell_type": "code",
   "execution_count": 1,
   "id": "07ec37d7-f7cb-4646-a2dd-9dab66239a30",
   "metadata": {
    "ExecuteTime": {
     "end_time": "2024-03-12T20:15:58.849084Z",
     "start_time": "2024-03-12T20:15:56.616749Z"
    }
   },
   "outputs": [
    {
     "name": "stderr",
     "output_type": "stream",
     "text": [
      "/home/shubuni/anaconda3/lib/python3.10/site-packages/torchvision/io/image.py:13: UserWarning: Failed to load image Python extension: 'libc10_hip.so: cannot open shared object file: No such file or directory'If you don't plan on using image functionality from `torchvision.io`, you can ignore this warning. Otherwise, there might be something wrong with your environment. Did you have `libjpeg` or `libpng` installed before building `torchvision` from source?\n",
      "  warn(\n"
     ]
    }
   ],
   "source": [
    "from datetime import datetime\n",
    "import torch\n",
    "from torch.utils.data import DataLoader\n",
    "from torchvision import datasets\n",
    "from torchvision.transforms import ToTensor\n",
    "from torchsummary import summary\n",
    "import matplotlib.pyplot as plt"
   ]
  },
  {
   "cell_type": "markdown",
   "id": "dd993cab-8437-411c-a9be-a6b0a1acd079",
   "metadata": {},
   "source": [
    "## Multinomial Classification of MNIST \n",
    "\n",
    "1. Load the MNIST dataset by clicking through the first cells and see how to depict some samples. Please note that a training and a test dataset are loaded. Make sure that only the training set will be used for training and the test dataset just for evaluation (accuracy). \n",
    "2. Implement the multinomial logistic regression model by completing the code in the functions \\verb|linear_trsf|, \\verb|softmax|, \\verb|predict|, \\verb|loss_ce|, \\verb|cost_ce|. \n",
    "3. Implement the mini-batch gradient descent training loop configured by number of epochs, batch size and learning rate. Implement the gradient explicitly (without autograd). Train the model with \\verb|nepochs=10|, \\verb|nbatch=64| and \\verb|lr=0.01|. \n",
    "4. Tune learning rate and batch size and qualitatively characterise the behaviour. What is your favorite combination (learning rate, batch size, number of epochs)\n",
    "5. Build and train the model with full-fledge pytorch incl. autograd. Implement a model class inheriting from $torch.nn.Module$ and use the layer functionality in the package $torch.nn$ (see lecture). Prove that you obtain the same accuracy.\n"
   ]
  },
  {
   "cell_type": "markdown",
   "id": "54623f22-b7a5-4caf-aef5-ee329ad00711",
   "metadata": {},
   "source": [
    "#### Hints \n",
    "* Keep an eye on the shapes of the tensors (as passed into the functions and as used within the functions (and declared in the function descriptions).\n",
    "* For each implemented function, run a small test with dummy input tensors (of the required shape) and check whether it outputs a tensor with expected shape and no 'nan'.\n",
    "* Possibly, add \\verb|assert()| statements in the code.\n",
    "* For the training loop perform a training with only a single batch of size 64. Here, you should be able to obtain 100% training accuracy."
   ]
  },
  {
   "cell_type": "markdown",
   "id": "115e944d-1923-476f-bc7f-777a584fa294",
   "metadata": {
    "tags": []
   },
   "source": [
    "### 1. Loading the Data\n",
    "\n",
    "Click through the cells below to load the MNIST dataset and learn how to access its samples."
   ]
  },
  {
   "cell_type": "markdown",
   "id": "e2d8a986-1cb2-483b-9bd8-0f71d69fa9e8",
   "metadata": {},
   "source": [
    "#### Dataset"
   ]
  },
  {
   "cell_type": "code",
   "execution_count": 2,
   "id": "042ff291-ba77-4deb-83b5-ca4a4f84c6b7",
   "metadata": {
    "ExecuteTime": {
     "end_time": "2024-03-12T20:16:36.917485Z",
     "start_time": "2024-03-12T20:16:35.081052Z"
    }
   },
   "outputs": [
    {
     "name": "stdout",
     "output_type": "stream",
     "text": [
      "Downloading http://yann.lecun.com/exdb/mnist/train-images-idx3-ubyte.gz\n",
      "Downloading http://yann.lecun.com/exdb/mnist/train-images-idx3-ubyte.gz to data/MNIST/raw/train-images-idx3-ubyte.gz\n"
     ]
    },
    {
     "name": "stderr",
     "output_type": "stream",
     "text": [
      "100%|██████████| 9912422/9912422 [00:00<00:00, 18012748.54it/s]\n"
     ]
    },
    {
     "name": "stdout",
     "output_type": "stream",
     "text": [
      "Extracting data/MNIST/raw/train-images-idx3-ubyte.gz to data/MNIST/raw\n",
      "\n",
      "Downloading http://yann.lecun.com/exdb/mnist/train-labels-idx1-ubyte.gz\n",
      "Downloading http://yann.lecun.com/exdb/mnist/train-labels-idx1-ubyte.gz to data/MNIST/raw/train-labels-idx1-ubyte.gz\n"
     ]
    },
    {
     "name": "stderr",
     "output_type": "stream",
     "text": [
      "100%|██████████| 28881/28881 [00:00<00:00, 90874488.99it/s]"
     ]
    },
    {
     "name": "stdout",
     "output_type": "stream",
     "text": [
      "Extracting data/MNIST/raw/train-labels-idx1-ubyte.gz to data/MNIST/raw\n",
      "\n",
      "Downloading http://yann.lecun.com/exdb/mnist/t10k-images-idx3-ubyte.gz\n",
      "Downloading http://yann.lecun.com/exdb/mnist/t10k-images-idx3-ubyte.gz to data/MNIST/raw/t10k-images-idx3-ubyte.gz\n"
     ]
    },
    {
     "name": "stderr",
     "output_type": "stream",
     "text": [
      "\n",
      "100%|██████████| 1648877/1648877 [00:00<00:00, 11088525.85it/s]\n"
     ]
    },
    {
     "name": "stdout",
     "output_type": "stream",
     "text": [
      "Extracting data/MNIST/raw/t10k-images-idx3-ubyte.gz to data/MNIST/raw\n",
      "\n",
      "Downloading http://yann.lecun.com/exdb/mnist/t10k-labels-idx1-ubyte.gz\n",
      "Downloading http://yann.lecun.com/exdb/mnist/t10k-labels-idx1-ubyte.gz to data/MNIST/raw/t10k-labels-idx1-ubyte.gz\n"
     ]
    },
    {
     "name": "stderr",
     "output_type": "stream",
     "text": [
      "100%|██████████| 4542/4542 [00:00<00:00, 6258386.59it/s]"
     ]
    },
    {
     "name": "stdout",
     "output_type": "stream",
     "text": [
      "Extracting data/MNIST/raw/t10k-labels-idx1-ubyte.gz to data/MNIST/raw\n"
     ]
    },
    {
     "name": "stderr",
     "output_type": "stream",
     "text": [
      "\n"
     ]
    }
   ],
   "source": [
    "training_data = datasets.MNIST(\n",
    "    root=\"data\",\n",
    "    train=True,\n",
    "    download=True,\n",
    "    transform=ToTensor()\n",
    ")\n",
    "test_data = datasets.MNIST(\n",
    "    root=\"data\",\n",
    "    train=False,\n",
    "    download=True,\n",
    "    transform=ToTensor()\n",
    ")"
   ]
  },
  {
   "cell_type": "code",
   "execution_count": 3,
   "id": "4317cf1c-f538-4ab9-a25d-bf3eaaecc82e",
   "metadata": {
    "ExecuteTime": {
     "end_time": "2024-03-12T20:16:50.289885Z",
     "start_time": "2024-03-12T20:16:50.283635Z"
    }
   },
   "outputs": [
    {
     "name": "stdout",
     "output_type": "stream",
     "text": [
      "Dataset MNIST\n",
      "    Number of datapoints: 60000\n",
      "    Root location: data\n",
      "    Split: Train\n",
      "    StandardTransform\n",
      "Transform: ToTensor()\n"
     ]
    }
   ],
   "source": [
    "print(training_data)"
   ]
  },
  {
   "cell_type": "code",
   "execution_count": 4,
   "id": "bead1c06-3cf0-4b28-bfa5-5fe83fcb0c09",
   "metadata": {
    "ExecuteTime": {
     "end_time": "2024-03-12T20:17:00.147089Z",
     "start_time": "2024-03-12T20:17:00.136710Z"
    }
   },
   "outputs": [
    {
     "name": "stdout",
     "output_type": "stream",
     "text": [
      "60000\n",
      "<class 'torch.Tensor'> torch.Size([1, 28, 28]) torch.float32\n",
      "<class 'int'> 2\n"
     ]
    }
   ],
   "source": [
    "print(len(training_data))\n",
    "x, y = training_data[5]\n",
    "print(type(x), x.shape, x.dtype)\n",
    "print(type(y), y)"
   ]
  },
  {
   "cell_type": "markdown",
   "id": "c4c0c1cf-ee9d-4f39-80f9-dc87419ca16d",
   "metadata": {},
   "source": [
    "#### Depict samples"
   ]
  },
  {
   "cell_type": "code",
   "execution_count": 6,
   "id": "a9938792-243b-43eb-a0e9-01ee61e45f5d",
   "metadata": {
    "ExecuteTime": {
     "end_time": "2024-03-12T20:17:35.821018Z",
     "start_time": "2024-03-12T20:17:35.135853Z"
    }
   },
   "outputs": [
    {
     "data": {
      "text/plain": "<Figure size 800x800 with 9 Axes>",
      "image/png": "[encoded data removed]"
     },
     "metadata": {},
     "output_type": "display_data"
    }
   ],
   "source": [
    "figure = plt.figure(figsize=(8, 8))\n",
    "cols, rows = 3, 3\n",
    "for i in range(1, cols * rows + 1):\n",
    "    sample_idx = torch.randint(len(training_data), size=(1,)).item()\n",
    "    img, label = training_data[sample_idx]\n",
    "    figure.add_subplot(rows, cols, i)\n",
    "    plt.title(\"Label %i (sample %i)\"%(label,sample_idx))\n",
    "    plt.axis(\"off\")\n",
    "    plt.imshow(img.squeeze(), cmap=\"gray\")\n",
    "plt.show()"
   ]
  },
  {
   "cell_type": "markdown",
   "id": "876863a4-933c-4994-97c7-66965fdc6d5b",
   "metadata": {},
   "source": [
    "#### Data Loader (see lecture)"
   ]
  },
  {
   "cell_type": "code",
   "execution_count": 7,
   "id": "b76a6393-4f06-4775-b9a3-cf0f30140617",
   "metadata": {
    "ExecuteTime": {
     "end_time": "2024-03-12T20:17:43.277478Z",
     "start_time": "2024-03-12T20:17:43.272671Z"
    }
   },
   "outputs": [],
   "source": [
    "train_dataloader = DataLoader(training_data, batch_size=64, shuffle=True)"
   ]
  },
  {
   "cell_type": "code",
   "execution_count": 8,
   "id": "31b5829a-0c1f-4f26-9e78-d2205a1611ca",
   "metadata": {
    "ExecuteTime": {
     "end_time": "2024-03-12T20:17:46.444051Z",
     "start_time": "2024-03-12T20:17:46.425520Z"
    }
   },
   "outputs": [
    {
     "name": "stdout",
     "output_type": "stream",
     "text": [
      "Feature batch shape: torch.Size([64, 1, 28, 28])\n",
      "Labels batch shape: torch.Size([64])\n"
     ]
    }
   ],
   "source": [
    "data_train, labels_train = next(iter(train_dataloader))\n",
    "print(f\"Feature batch shape: {data_train.shape}\")\n",
    "print(f\"Labels batch shape: {labels_train.shape}\")"
   ]
  },
  {
   "cell_type": "code",
   "execution_count": 9,
   "id": "c55ec26d-ba62-4b79-b4e3-0fb86a6cb65f",
   "metadata": {
    "ExecuteTime": {
     "end_time": "2024-03-12T20:17:50.817284Z",
     "start_time": "2024-03-12T20:17:50.618479Z"
    }
   },
   "outputs": [
    {
     "data": {
      "text/plain": "<Figure size 640x480 with 1 Axes>",
      "image/png": "[encoded data removed]"
     },
     "metadata": {},
     "output_type": "display_data"
    }
   ],
   "source": [
    "img = data_train[0].squeeze()\n",
    "label = labels_train[0]\n",
    "plt.imshow(img, cmap=\"gray\")\n",
    "plt.title(f\"Label: {label}\")\n",
    "plt.show()"
   ]
  },
  {
   "cell_type": "markdown",
   "id": "a7776e74-56d3-4988-ae15-ddfaae9f6d35",
   "metadata": {},
   "source": [
    "### 2. Multinomial Logistic Regression\n",
    "\n",
    "Now, implement the model, i.e. multinomial logistic regression and the loss/cost function (cross-entropy cost).\n",
    "\n",
    "To that end, implement the python functions below. \n",
    "All arguments are pytorch tensors with indicated shapes."
   ]
  },
  {
   "cell_type": "code",
   "execution_count": 10,
   "id": "0c1db699-d593-4f8a-9f63-177117afa932",
   "metadata": {
    "ExecuteTime": {
     "end_time": "2024-03-12T20:27:49.306688Z",
     "start_time": "2024-03-12T20:27:49.298609Z"
    }
   },
   "outputs": [],
   "source": [
    "def linear_trsf(x,W,b):\n",
    "    \"\"\"\n",
    "    x -- tensor with shape (nb,1,28,28)\n",
    "    W -- tensor with shape (10,28*28)\n",
    "    b -- tensor with shape (1,10)\n",
    "    \"\"\"\n",
    "    # YOUR CODE (START)\n",
    "    nb = x.shape[0]\n",
    "    x_reshaped = x.reshape(nb, -1)  # flattens the input\n",
    "    return torch.mm(x_reshaped, W.t()) + b  # (nb,10)\n",
    "    \n",
    "    # YOUR CODE (END)\n",
    "\n",
    "def softmax(z):\n",
    "    \"\"\"\n",
    "    z -- tensor of shape (nb,10)\n",
    "    \"\"\"\n",
    "    # YOUR CODE (START)\n",
    "    exp_z = torch.exp(z - z.max(dim=1, keepdim=True).values)\n",
    "    sum_exp_z = exp_z.sum(dim=1, keepdim=True)\n",
    "    return exp_z / sum_exp_z  # (nb,10)\n",
    "    \n",
    "    # YOUR CODE (END)\n",
    "    \n",
    "def predict(x,W,b):\n",
    "    \"\"\"\n",
    "    x -- tensor with shape (nb,1,28,28)\n",
    "    W -- tensor with shape (10,28*28)\n",
    "    b -- tensor with shape (1,10)\n",
    "    \"\"\"\n",
    "    # YOUR CODE (START)\n",
    "    z = linear_trsf(x, W, b)\n",
    "    return softmax(z)\n",
    "    # YOUR CODE (END)\n"
   ]
  },
  {
   "cell_type": "markdown",
   "id": "68031839-586e-4969-a536-ae9d3c05cd4d",
   "metadata": {},
   "source": [
    "##### TEST"
   ]
  },
  {
   "cell_type": "code",
   "outputs": [
    {
     "name": "stdout",
     "output_type": "stream",
     "text": [
      "Shape of linear_trsf output: torch.Size([64, 10])\n",
      "Shape of softmax output: torch.Size([64, 10])\n",
      "Sum of probabilities for a sample: 1.0000001192092896\n",
      "Shape of predict output: torch.Size([64, 10])\n"
     ]
    }
   ],
   "source": [
    "nb = 64  # batch size\n",
    "x_dummy = torch.randn(nb, 1, 28, 28)  # (nb,1,28,28)\n",
    "\n",
    "W_dummy = torch.randn(10, 28*28)  # (10,28*28)\n",
    "b_dummy = torch.randn(1, 10)  # (1,10)\n",
    "\n",
    "z_dummy = linear_trsf(x_dummy, W_dummy, b_dummy)\n",
    "print(f\"Shape of linear_trsf output: {z_dummy.shape}\")\n",
    "\n",
    "probabilities_dummy = softmax(z_dummy)\n",
    "print(f\"Shape of softmax output: {probabilities_dummy.shape}\")\n",
    "print(f\"Sum of probabilities for a sample: {probabilities_dummy[0].sum()}\")\n",
    "\n",
    "pred_dummy = predict(x_dummy, W_dummy, b_dummy)\n",
    "print(f\"Shape of predict output: {pred_dummy.shape}\")"
   ],
   "metadata": {
    "collapsed": false,
    "ExecuteTime": {
     "end_time": "2024-03-12T20:28:04.428682Z",
     "start_time": "2024-03-12T20:28:04.399396Z"
    }
   },
   "id": "425a39acd326e7fa",
   "execution_count": 11
  },
  {
   "cell_type": "code",
   "execution_count": 12,
   "id": "04f01d24-401d-411b-bc9e-a4612dbb2fc6",
   "metadata": {
    "ExecuteTime": {
     "end_time": "2024-03-12T20:28:14.261105Z",
     "start_time": "2024-03-12T20:28:14.250067Z"
    }
   },
   "outputs": [
    {
     "name": "stdout",
     "output_type": "stream",
     "text": [
      "torch.Size([10, 784]) torch.Size([1, 10])\n",
      "torch.Size([1, 10]) 1.0\n"
     ]
    }
   ],
   "source": [
    "W,b = torch.randn((10,28*28)), torch.zeros((1,10))\n",
    "print(W.shape,b.shape)\n",
    "u = predict(x,W,b)\n",
    "print(u.shape, torch.sum(u).item())"
   ]
  },
  {
   "cell_type": "markdown",
   "id": "f417988d-95f1-4c87-86ad-ae3df68a756f",
   "metadata": {},
   "source": [
    "#### Loss Function"
   ]
  },
  {
   "cell_type": "code",
   "execution_count": 44,
   "id": "7aa23d20-608a-47cc-b73d-d75d71c69a3d",
   "metadata": {
    "ExecuteTime": {
     "end_time": "2024-03-12T21:32:04.159480Z",
     "start_time": "2024-03-12T21:32:04.153753Z"
    }
   },
   "outputs": [],
   "source": [
    "def loss_ce(y, uhat):\n",
    "    \"\"\"\n",
    "    y -- tensor with shape (nb,1) and possible values (0,1,2,3,4,5,6,7,8,9)\n",
    "    uhat -- tensor with shape (nb,10)\n",
    "    returns -- per sample loss \n",
    "    \"\"\"\n",
    "    # YOUR CODE (START)\n",
    "def loss_ce(y, uhat):\n",
    "    nb = y.shape[0]\n",
    "    c = uhat.shape[1]\n",
    "    y = y.long()\n",
    "    y_one_hot = torch.zeros(nb, c).scatter_(1, y.view(-1, 1), 1)\n",
    "    loss = -torch.sum(y_one_hot * torch.log(uhat), dim=1)\n",
    "    return loss\n",
    "\n",
    "    # YOUR CODE (END)\n",
    "\n",
    "def cost_ce(y,uhat):\n",
    "    \"\"\"\n",
    "    y -- tensor with shape (nb,1) and possible values (0,1,2,3,4,5,6,7,8,9)\n",
    "    uhat -- tensor with shape (nb,10)\n",
    "    return -- per batch mean of losses\n",
    "    \"\"\"\n",
    "    # YOUR CODE (START)    \n",
    "    losses = loss_ce(y, uhat)\n",
    "    return losses.mean()\n",
    "    # YOUR CODE (END)\n"
   ]
  },
  {
   "cell_type": "markdown",
   "id": "ed4385a6-d5e7-4048-a3b7-40607e2d956d",
   "metadata": {},
   "source": [
    "##### TEST"
   ]
  },
  {
   "cell_type": "code",
   "execution_count": 45,
   "id": "13bafc12-db4b-4d2b-a048-ebd45366ba6f",
   "metadata": {
    "tags": [],
    "ExecuteTime": {
     "end_time": "2024-03-12T21:32:06.456302Z",
     "start_time": "2024-03-12T21:32:06.447397Z"
    }
   },
   "outputs": [
    {
     "name": "stdout",
     "output_type": "stream",
     "text": [
      "tensor([2.4076, 1.0986]) tensor(1.7531)\n"
     ]
    }
   ],
   "source": [
    "import numpy as np\n",
    "y = torch.tensor([0,2])\n",
    "z = torch.tensor([[1.,2,3],[2,2,2]]).reshape(-1,3)\n",
    "uhat = softmax(z)\n",
    "print(loss_ce(y,uhat), cost_ce(y,uhat))"
   ]
  },
  {
   "cell_type": "markdown",
   "id": "0a4c00be-22f3-4f78-8079-21f455e83abc",
   "metadata": {},
   "source": [
    "### 3. Mini-Batch Gradient Descent\n",
    "\n",
    "For the training, we adopt gradient descent - and start with the implementation of the gradient of the cost function (cross-entropy cost function).  "
   ]
  },
  {
   "cell_type": "markdown",
   "id": "a3576b66-3fcd-4cff-b6a2-1e14d1ba7789",
   "metadata": {
    "tags": []
   },
   "source": [
    "#### Gradient"
   ]
  },
  {
   "cell_type": "code",
   "execution_count": 46,
   "id": "ad97d05e-9b97-4cef-ad74-728875a717b9",
   "metadata": {
    "tags": [],
    "ExecuteTime": {
     "end_time": "2024-03-12T21:32:10.090156Z",
     "start_time": "2024-03-12T21:32:10.083122Z"
    }
   },
   "outputs": [],
   "source": [
    "def grad_loss_ce(x,u,uhat):\n",
    "    \"\"\"\n",
    "    x -- tensor with shape (nb,1, 28*28)\n",
    "    u -- tensor with shape (nb,10)\n",
    "    uhat -- tensor with shape (nb,10)\n",
    "    returns -- gradW, gradb (same dimension as W and b)\n",
    "    \"\"\"\n",
    "    # YOUR CODE (START)\n",
    "    nb = x.shape[0]\n",
    "    x_reshaped = x.reshape(nb, -1)\n",
    "    u_one_hot = torch.zeros(nb, 10).scatter_(1, u.view(-1, 1), 1)\n",
    "    gradW = torch.mm(x_reshaped.t(), (uhat - u_one_hot))\n",
    "    gradb = (uhat - u_one_hot).sum(dim=0, keepdim=True)\n",
    "    return gradW, gradb\n",
    "    # YOUR CODE (END)"
   ]
  },
  {
   "cell_type": "markdown",
   "id": "9101058b-0699-454b-bee0-bd4efb729575",
   "metadata": {
    "tags": []
   },
   "source": [
    "#### Metrics - Cost, Accuracy\n",
    "\n",
    "For tracking the progress of the training, we will use two functions: the cost and the accuracy. "
   ]
  },
  {
   "cell_type": "code",
   "execution_count": 47,
   "id": "ce2b90c5-e592-4d18-9a46-5323ca010e4e",
   "metadata": {
    "tags": [],
    "ExecuteTime": {
     "end_time": "2024-03-12T21:32:26.680792Z",
     "start_time": "2024-03-12T21:32:26.674941Z"
    }
   },
   "outputs": [],
   "source": [
    "def metrics(X,Y,W,b):\n",
    "    \"\"\"\n",
    "    X -- tensor with shape (nb,1,28*28)\n",
    "    Y -- tensor with shape (nb,10)\n",
    "    W -- tensor with shape (10,28*28)\n",
    "    b -- tensor with shape (10,1)\n",
    "    \n",
    "    return -- cost, acc (both scalars)\n",
    "    \"\"\"\n",
    "    # YOUR CODE (START)    \n",
    "    uhat = predict(X, W, b)\n",
    "    nb = Y.size(0)\n",
    "    c = uhat.size(1)\n",
    "    Y = Y.long()\n",
    "    Y_one_hot = torch.zeros(nb, c).scatter_(1, Y.view(-1, 1), 1)\n",
    "    cost = cost_ce(Y_one_hot, uhat)\n",
    "    predictions = torch.argmax(uhat, dim=1)\n",
    "    correct_predictions = (predictions == Y).float()\n",
    "    acc = correct_predictions.mean()\n",
    "    return cost.item(), acc.item()\n",
    "    # YOUR CODE (END)"
   ]
  },
  {
   "cell_type": "markdown",
   "id": "b2e54eea-ddb0-41b0-a736-60924d2bec89",
   "metadata": {},
   "source": [
    "#### Training"
   ]
  },
  {
   "cell_type": "code",
   "execution_count": 48,
   "id": "1d62dcb8-5a8f-4ba4-a196-bad7cbb9d835",
   "metadata": {
    "ExecuteTime": {
     "end_time": "2024-03-12T21:32:37.483010Z",
     "start_time": "2024-03-12T21:32:28.228310Z"
    }
   },
   "outputs": [
    {
     "ename": "RuntimeError",
     "evalue": "Expected index [320, 1] to be smaller than self [32, 10] apart from dimension 1",
     "output_type": "error",
     "traceback": [
      "\u001B[0;31m---------------------------------------------------------------------------\u001B[0m",
      "\u001B[0;31mRuntimeError\u001B[0m                              Traceback (most recent call last)",
      "Cell \u001B[0;32mIn[48], line 31\u001B[0m\n\u001B[1;32m     28\u001B[0m     W \u001B[38;5;241m-\u001B[39m\u001B[38;5;241m=\u001B[39m alpha \u001B[38;5;241m*\u001B[39m gradW\u001B[38;5;241m.\u001B[39mt()\n\u001B[1;32m     29\u001B[0m     b \u001B[38;5;241m-\u001B[39m\u001B[38;5;241m=\u001B[39m alpha \u001B[38;5;241m*\u001B[39m gradb\u001B[38;5;241m.\u001B[39msqueeze()\n\u001B[0;32m---> 31\u001B[0m cost_train, acc_train \u001B[38;5;241m=\u001B[39m \u001B[43mmetrics\u001B[49m\u001B[43m(\u001B[49m\u001B[43mX\u001B[49m\u001B[43m,\u001B[49m\u001B[43m \u001B[49m\u001B[43mY\u001B[49m\u001B[43m,\u001B[49m\u001B[43m \u001B[49m\u001B[43mW\u001B[49m\u001B[43m,\u001B[49m\u001B[43m \u001B[49m\u001B[43mb\u001B[49m\u001B[43m)\u001B[49m \n\u001B[1;32m     32\u001B[0m cost_hist\u001B[38;5;241m.\u001B[39mappend(cost_train)\n\u001B[1;32m     33\u001B[0m acc_hist\u001B[38;5;241m.\u001B[39mappend(acc_train)\n",
      "Cell \u001B[0;32mIn[47], line 16\u001B[0m, in \u001B[0;36mmetrics\u001B[0;34m(X, Y, W, b)\u001B[0m\n\u001B[1;32m     14\u001B[0m Y \u001B[38;5;241m=\u001B[39m Y\u001B[38;5;241m.\u001B[39mlong()\n\u001B[1;32m     15\u001B[0m Y_one_hot \u001B[38;5;241m=\u001B[39m torch\u001B[38;5;241m.\u001B[39mzeros(nb, c)\u001B[38;5;241m.\u001B[39mscatter_(\u001B[38;5;241m1\u001B[39m, Y\u001B[38;5;241m.\u001B[39mview(\u001B[38;5;241m-\u001B[39m\u001B[38;5;241m1\u001B[39m, \u001B[38;5;241m1\u001B[39m), \u001B[38;5;241m1\u001B[39m)\n\u001B[0;32m---> 16\u001B[0m cost \u001B[38;5;241m=\u001B[39m \u001B[43mcost_ce\u001B[49m\u001B[43m(\u001B[49m\u001B[43mY_one_hot\u001B[49m\u001B[43m,\u001B[49m\u001B[43m \u001B[49m\u001B[43muhat\u001B[49m\u001B[43m)\u001B[49m\n\u001B[1;32m     17\u001B[0m predictions \u001B[38;5;241m=\u001B[39m torch\u001B[38;5;241m.\u001B[39margmax(uhat, dim\u001B[38;5;241m=\u001B[39m\u001B[38;5;241m1\u001B[39m)\n\u001B[1;32m     18\u001B[0m correct_predictions \u001B[38;5;241m=\u001B[39m (predictions \u001B[38;5;241m==\u001B[39m Y)\u001B[38;5;241m.\u001B[39mfloat()\n",
      "Cell \u001B[0;32mIn[44], line 25\u001B[0m, in \u001B[0;36mcost_ce\u001B[0;34m(y, uhat)\u001B[0m\n\u001B[1;32m     19\u001B[0m \u001B[38;5;124;03m\"\"\"\u001B[39;00m\n\u001B[1;32m     20\u001B[0m \u001B[38;5;124;03my -- tensor with shape (nb,1) and possible values (0,1,2,3,4,5,6,7,8,9)\u001B[39;00m\n\u001B[1;32m     21\u001B[0m \u001B[38;5;124;03muhat -- tensor with shape (nb,10)\u001B[39;00m\n\u001B[1;32m     22\u001B[0m \u001B[38;5;124;03mreturn -- per batch mean of losses\u001B[39;00m\n\u001B[1;32m     23\u001B[0m \u001B[38;5;124;03m\"\"\"\u001B[39;00m\n\u001B[1;32m     24\u001B[0m \u001B[38;5;66;03m# YOUR CODE (START)    \u001B[39;00m\n\u001B[0;32m---> 25\u001B[0m losses \u001B[38;5;241m=\u001B[39m \u001B[43mloss_ce\u001B[49m\u001B[43m(\u001B[49m\u001B[43my\u001B[49m\u001B[43m,\u001B[49m\u001B[43m \u001B[49m\u001B[43muhat\u001B[49m\u001B[43m)\u001B[49m\n\u001B[1;32m     26\u001B[0m \u001B[38;5;28;01mreturn\u001B[39;00m losses\u001B[38;5;241m.\u001B[39mmean()\n",
      "Cell \u001B[0;32mIn[44], line 12\u001B[0m, in \u001B[0;36mloss_ce\u001B[0;34m(y, uhat)\u001B[0m\n\u001B[1;32m     10\u001B[0m c \u001B[38;5;241m=\u001B[39m uhat\u001B[38;5;241m.\u001B[39mshape[\u001B[38;5;241m1\u001B[39m]\n\u001B[1;32m     11\u001B[0m y \u001B[38;5;241m=\u001B[39m y\u001B[38;5;241m.\u001B[39mlong()\n\u001B[0;32m---> 12\u001B[0m y_one_hot \u001B[38;5;241m=\u001B[39m \u001B[43mtorch\u001B[49m\u001B[38;5;241;43m.\u001B[39;49m\u001B[43mzeros\u001B[49m\u001B[43m(\u001B[49m\u001B[43mnb\u001B[49m\u001B[43m,\u001B[49m\u001B[43m \u001B[49m\u001B[43mc\u001B[49m\u001B[43m)\u001B[49m\u001B[38;5;241;43m.\u001B[39;49m\u001B[43mscatter_\u001B[49m\u001B[43m(\u001B[49m\u001B[38;5;241;43m1\u001B[39;49m\u001B[43m,\u001B[49m\u001B[43m \u001B[49m\u001B[43my\u001B[49m\u001B[38;5;241;43m.\u001B[39;49m\u001B[43mview\u001B[49m\u001B[43m(\u001B[49m\u001B[38;5;241;43m-\u001B[39;49m\u001B[38;5;241;43m1\u001B[39;49m\u001B[43m,\u001B[49m\u001B[43m \u001B[49m\u001B[38;5;241;43m1\u001B[39;49m\u001B[43m)\u001B[49m\u001B[43m,\u001B[49m\u001B[43m \u001B[49m\u001B[38;5;241;43m1\u001B[39;49m\u001B[43m)\u001B[49m\n\u001B[1;32m     13\u001B[0m loss \u001B[38;5;241m=\u001B[39m \u001B[38;5;241m-\u001B[39mtorch\u001B[38;5;241m.\u001B[39msum(y_one_hot \u001B[38;5;241m*\u001B[39m torch\u001B[38;5;241m.\u001B[39mlog(uhat), dim\u001B[38;5;241m=\u001B[39m\u001B[38;5;241m1\u001B[39m)\n\u001B[1;32m     14\u001B[0m \u001B[38;5;28;01mreturn\u001B[39;00m loss\n",
      "\u001B[0;31mRuntimeError\u001B[0m: Expected index [320, 1] to be smaller than self [32, 10] apart from dimension 1"
     ]
    }
   ],
   "source": [
    "nepochs = 10\n",
    "alpha = 0.01\n",
    "nclasses = 10\n",
    "nbatch = 64\n",
    "num_batches = len(training_data)/float(nbatch)\n",
    "\n",
    "cost_hist = []\n",
    "acc_hist = []\n",
    "cost_hist_test = []\n",
    "acc_hist_test = []\n",
    "\n",
    "# data loader\n",
    "train_dataloader = DataLoader(training_data, batch_size=nbatch, shuffle=True)\n",
    "\n",
    "# test data - we can load all samples for the test since it easily fits into memory\n",
    "Xtest,Ytest = next(iter(DataLoader(test_data, batch_size=10000, shuffle=True)))\n",
    "\n",
    "# initial parameters\n",
    "W,b = torch.randn((10,28*28)), torch.zeros((1,10))\n",
    "\n",
    "d0 = datetime.now()\n",
    "\n",
    "for epoch in range(nepochs):\n",
    "    for X, Y in train_dataloader:\n",
    "        X = X.view(-1, 28*28)  # flatten X\n",
    "        uhat = predict(X, W, b)\n",
    "        gradW, gradb = grad_loss_ce(X, Y, uhat)\n",
    "        W -= alpha * gradW.t()\n",
    "        b -= alpha * gradb.squeeze()\n",
    "\n",
    "    cost_train, acc_train = metrics(X, Y, W, b) \n",
    "    cost_hist.append(cost_train)\n",
    "    acc_hist.append(acc_train)\n",
    "\n",
    "    Xtest_flat = Xtest.view(-1, 28*28)  # flatten Xtest\n",
    "    cost_test, acc_test = metrics(Xtest_flat, Ytest, W, b)\n",
    "    cost_hist_test.append(cost_test)\n",
    "    acc_hist_test.append(acc_test)\n",
    "\n",
    "    print(f\"Epoch {epoch}: Train cost = {cost_train}, Train acc = {acc_train}, Test cost = {cost_test}, Test acc = {acc_test}\")\n",
    "\n",
    "\n",
    "d = datetime.now()\n",
    "print(f\"Average epoch time: {(d-d0).total_seconds()/nepochs} seconds\")"
   ]
  },
  {
   "cell_type": "code",
   "execution_count": 18,
   "id": "9fed7dc9-44c4-4f06-b184-40d05fcefeba",
   "metadata": {},
   "outputs": [
    {
     "data": {
      "text/plain": [
       "Text(0.5, 1.0, 'Accuracy')"
      ]
     },
     "execution_count": 18,
     "metadata": {},
     "output_type": "execute_result"
    },
    {
     "data": {
      "image/png": "[encoded data removed]",
      "text/plain": [
       "<Figure size 432x288 with 1 Axes>"
      ]
     },
     "metadata": {
      "needs_background": "light"
     },
     "output_type": "display_data"
    },
    {
     "data": {
      "image/png": "[encoded data removed]",
      "text/plain": [
       "<Figure size 432x288 with 1 Axes>"
      ]
     },
     "metadata": {
      "needs_background": "light"
     },
     "output_type": "display_data"
    }
   ],
   "source": [
    "plt.figure(1)\n",
    "plt.plot(torch.arange(nepochs), cost_hist, \"-\")\n",
    "plt.plot(torch.arange(nepochs), cost_hist_test, \"r-\")\n",
    "plt.xlabel(\"Epoch\")\n",
    "plt.xlim(0,nepochs)\n",
    "plt.ylim(0,1)\n",
    "plt.title(\"Cross-Entropy Cost\")\n",
    "plt.figure(2)\n",
    "plt.plot(torch.arange(nepochs), acc_hist,\"-\")\n",
    "plt.plot(torch.arange(nepochs), acc_hist_test,\"r-\")\n",
    "plt.xlabel(\"Epoch\")\n",
    "plt.xlim(0,nepochs)\n",
    "plt.ylim(0.8,1)\n",
    "plt.title(\"Accuracy\")"
   ]
  },
  {
   "cell_type": "markdown",
   "id": "eb88ef77-207c-44a5-9fd1-541932f52ee9",
   "metadata": {},
   "source": [
    "### 4. Tune learning rate and batch size"
   ]
  },
  {
   "cell_type": "markdown",
   "id": "82fb5f7f-5217-4253-9a0e-5b8d65048503",
   "metadata": {},
   "source": [
    "Now analyse the training progress with five, well selected settings for each, the learning rate and the batch size.\n",
    "Make sure that for each setting, a more or less \"stable\" test performance is achieved, i.e. a status where the test accurace is no longer expected to improve. Choose the number of epochs accordingly."
   ]
  },
  {
   "cell_type": "markdown",
   "id": "579b5359-193b-44aa-8aee-13227f1655fd",
   "metadata": {},
   "source": [
    "Finally, prepare suitable plots and tables to make the comparison transparent and characterize in words what you observe. \n",
    "\n",
    "Explain the behavior."
   ]
  },
  {
   "cell_type": "code",
   "execution_count": null,
   "id": "95c13ed4-c387-4141-a11e-3c14c70da3b5",
   "metadata": {},
   "outputs": [],
   "source": []
  },
  {
   "cell_type": "markdown",
   "id": "1e43eb8b-f5f8-4e2f-8338-79d142581b52",
   "metadata": {},
   "source": [
    "### 5. With Full-Fledge PyTorch"
   ]
  },
  {
   "cell_type": "code",
   "execution_count": 19,
   "id": "ef3daa6e-134a-45da-9e79-5d71d328e6bd",
   "metadata": {},
   "outputs": [],
   "source": [
    "class NeuralNetwork(torch.nn.Module):\n",
    "    \n",
    "    def __init__(self):\n",
    "        super(NeuralNetwork, self).__init__()\n",
    "        self.flatten = ...\n",
    "        self.linear  = ...\n",
    "    \n",
    "    def forward(self, x): # use just one linear layer and pytorch's CrossEntropyLoss\n",
    "        z = ...\n",
    "        return z\n"
   ]
  },
  {
   "cell_type": "code",
   "execution_count": 34,
   "id": "09ef1a08-ecac-4a33-be14-bc8fe3d081fe",
   "metadata": {},
   "outputs": [
    {
     "name": "stdout",
     "output_type": "stream",
     "text": [
      "NeuralNetwork(\n",
      "  (flatten): Flatten(start_dim=1, end_dim=-1)\n",
      "  (linear): Linear(in_features=784, out_features=10, bias=True)\n",
      ")\n"
     ]
    }
   ],
   "source": [
    "model = NeuralNetwork()\n",
    "print(model)"
   ]
  },
  {
   "cell_type": "code",
   "execution_count": 35,
   "id": "4e79c33e-ca98-4df2-b887-c30cb02ae503",
   "metadata": {},
   "outputs": [
    {
     "name": "stdout",
     "output_type": "stream",
     "text": [
      "----------------------------------------------------------------\n",
      "        Layer (type)               Output Shape         Param #\n",
      "================================================================\n",
      "           Flatten-1                  [-1, 784]               0\n",
      "            Linear-2                   [-1, 10]           7,850\n",
      "================================================================\n",
      "Total params: 7,850\n",
      "Trainable params: 7,850\n",
      "Non-trainable params: 0\n",
      "----------------------------------------------------------------\n",
      "Input size (MB): 0.00\n",
      "Forward/backward pass size (MB): 0.01\n",
      "Params size (MB): 0.03\n",
      "Estimated Total Size (MB): 0.04\n",
      "----------------------------------------------------------------\n"
     ]
    }
   ],
   "source": [
    "summary(model, (1,28,28))"
   ]
  },
  {
   "cell_type": "code",
   "execution_count": 36,
   "id": "d7823a99-4f08-4c86-9dde-459d19e861d2",
   "metadata": {},
   "outputs": [
    {
     "name": "stdout",
     "output_type": "stream",
     "text": [
      "Epoch 0: 0.983347, 0.798517, 0.603200, 0.867500\n",
      "Epoch 1: 0.552474, 0.867283, 0.477130, 0.884000\n",
      "Epoch 2: 0.472336, 0.879833, 0.426591, 0.891300\n",
      "Epoch 3: 0.433343, 0.886117, 0.398831, 0.896200\n",
      "Epoch 4: 0.408873, 0.891000, 0.381611, 0.899200\n",
      "Epoch 5: 0.392192, 0.894483, 0.364884, 0.902000\n",
      "Epoch 6: 0.379480, 0.897100, 0.355054, 0.905300\n",
      "Epoch 7: 0.369738, 0.899250, 0.345773, 0.906000\n",
      "Epoch 8: 0.361385, 0.900750, 0.340056, 0.907500\n",
      "Epoch 9: 0.354670, 0.902517, 0.333860, 0.907700\n"
     ]
    }
   ],
   "source": [
    "nbatch = 64\n",
    "nepochs = 10\n",
    "learning_rate = 0.01\n",
    "\n",
    "cost_hist = []\n",
    "cost_hist_test = []\n",
    "acc_hist = []\n",
    "acc_hist_test = []\n",
    "\n",
    "cost_ce = torch.nn.CrossEntropyLoss()\n",
    "optimizer = torch.optim.SGD(model.parameters(), lr=learning_rate)\n",
    "\n",
    "training_loader = DataLoader(training_data, batch_size=nbatch, shuffle=True)\n",
    "test_loader = DataLoader(test_data, batch_size=10000, shuffle=True)\n",
    "Xtest, Ytest = next(iter(test_loader))\n",
    "size = len(training_loader.dataset)\n",
    "nbatches = len(training_loader)\n",
    "\n",
    "for epoch in range(nepochs):\n",
    "    cost, acc = 0.0, 0.0\n",
    "    for batch, (X, Y) in enumerate(training_loader):\n",
    "\n",
    "    ...    \n",
    "    ...    \n",
    "    ...    \n",
    "        \n",
    "    cost /= nbatches\n",
    "    acc /= size\n",
    "    \n",
    "    ...\n",
    "    ...\n",
    "    ...\n",
    "    \n",
    "    print(\"Epoch %i: %f, %f, %f, %f\"%(epoch, cost, acc, cost_test, acc_test))\n",
    "    cost_hist.append(cost)\n",
    "    cost_hist_test.append(cost_test)\n",
    "    acc_hist.append(acc)\n",
    "    acc_hist_test.append(acc_test)\n"
   ]
  },
  {
   "cell_type": "code",
   "execution_count": 37,
   "id": "fc4695d3-4b2b-4304-ae4e-9c8eb1f44cf3",
   "metadata": {},
   "outputs": [
    {
     "data": {
      "text/plain": [
       "Text(0.5, 1.0, 'Accuracy')"
      ]
     },
     "execution_count": 37,
     "metadata": {},
     "output_type": "execute_result"
    },
    {
     "data": {
      "image/png": "[encoded data removed]",
      "text/plain": [
       "<Figure size 432x288 with 1 Axes>"
      ]
     },
     "metadata": {
      "needs_background": "light"
     },
     "output_type": "display_data"
    },
    {
     "data": {
      "image/png": "[encoded data removed]",
      "text/plain": [
       "<Figure size 432x288 with 1 Axes>"
      ]
     },
     "metadata": {
      "needs_background": "light"
     },
     "output_type": "display_data"
    }
   ],
   "source": [
    "plt.figure(1)\n",
    "plt.plot(torch.arange(nepochs), cost_hist, \"-\")\n",
    "plt.plot(torch.arange(nepochs), cost_hist_test, \"r-\")\n",
    "plt.xlabel(\"Epoch\")\n",
    "plt.xlim(0,nepochs)\n",
    "plt.ylim(0,1)\n",
    "plt.title(\"Cross-Entropy Cost\")\n",
    "plt.figure(2)\n",
    "plt.plot(torch.arange(nepochs), acc_hist,\"-\")\n",
    "plt.plot(torch.arange(nepochs), acc_hist_test,\"r-\")\n",
    "plt.xlabel(\"Epoch\")\n",
    "plt.xlim(0,nepochs)\n",
    "plt.ylim(0.8,1)\n",
    "plt.title(\"Accuracy\")"
   ]
  },
  {
   "cell_type": "code",
   "execution_count": null,
   "id": "bb76edcd-f921-4d9e-8dcc-41a1b3e9a196",
   "metadata": {},
   "outputs": [],
   "source": []
  }
 ],
 "metadata": {
  "kernelspec": {
   "display_name": "Python 3 (ipykernel)",
   "language": "python",
   "name": "python3"
  },
  "language_info": {
   "codemirror_mode": {
    "name": "ipython",
    "version": 3
   },
   "file_extension": ".py",
   "mimetype": "text/x-python",
   "name": "python",
   "nbconvert_exporter": "python",
   "pygments_lexer": "ipython3",
   "version": "3.11.5"
  }
 },
 "nbformat": 4,
 "nbformat_minor": 5
}
