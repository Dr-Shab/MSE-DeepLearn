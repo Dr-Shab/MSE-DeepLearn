{
 "cells": [
  {
   "cell_type": "markdown",
   "source": [
    "By Drilon & Chia-Hua"
   ],
   "metadata": {
    "collapsed": false
   },
   "id": "ed9efaddb95b4851"
  },
  {
   "cell_type": "code",
   "outputs": [],
   "source": [
    "import numpy as np\n",
    "import random\n",
    "import matplotlib.pyplot as plt\n",
    "import tensorflow.keras as keras\n",
    "import re"
   ],
   "metadata": {
    "collapsed": false,
    "ExecuteTime": {
     "end_time": "2024-05-14T12:42:09.529918Z",
     "start_time": "2024-05-14T12:42:09.524384Z"
    }
   },
   "id": "1fa8a0305d9d76bc",
   "execution_count": 15
  },
  {
   "cell_type": "code",
   "outputs": [
    {
     "name": "stdout",
     "output_type": "stream",
     "text": [
      "Loaded a corpus of 2385993 characters\n",
      "HashplayInc\n",
      "NewIncentives\n",
      "GrabJobs\n",
      "MediBookr\n",
      "MelissaWithLoveco\n",
      "Starting11\n",
      "TheCarShareGuy\n",
      "AllahabadBank\n",
      "Anlaiye\n",
      "AnyTimeLo\n"
     ]
    }
   ],
   "source": [
    "with open(\"data/companies.csv\", encoding=\"utf-8\") as corpus_file:\n",
    "    corpus = corpus_file.read()\n",
    "    corpus = re.sub(r'[^0-9a-zA-Z\\\\/@+\\-/\\n:,|#]+', '', corpus)\n",
    "    corpus_length = len(corpus)\n",
    "print(\"Loaded a corpus of {0} characters\".format(corpus_length))\n",
    "print(corpus[:120])"
   ],
   "metadata": {
    "collapsed": false,
    "ExecuteTime": {
     "end_time": "2024-05-14T12:43:06.969932Z",
     "start_time": "2024-05-14T12:43:06.853093Z"
    }
   },
   "id": "66cd27453e2b50bb",
   "execution_count": 17
  },
  {
   "cell_type": "code",
   "outputs": [
    {
     "name": "stdout",
     "output_type": "stream",
     "text": [
      "['\\n', '#', '+', ',', '-', '/', '0', '1', '2', '3', '4', '5', '6', '7', '8', '9', ':', '@', 'A', 'B', 'C', 'D', 'E', 'F', 'G', 'H', 'I', 'J', 'K', 'L', 'M', 'N', 'O', 'P', 'Q', 'R', 'S', 'T', 'U', 'V', 'W', 'X', 'Y', 'Z', '\\\\', 'a', 'b', 'c', 'd', 'e', 'f', 'g', 'h', 'i', 'j', 'k', 'l', 'm', 'n', 'o', 'p', 'q', 'r', 's', 't', 'u', 'v', 'w', 'x', 'y', 'z', '|']\n",
      "Our corpus contains 72 unique characters.\n"
     ]
    }
   ],
   "source": [
    "chars = sorted(list(set(corpus)))\n",
    "print(chars)\n",
    "num_chars = len(chars)\n",
    "encoding = {c: i for i, c in enumerate(chars)}\n",
    "decoding = {i: c for i, c in enumerate(chars)}\n",
    "print(\"Our corpus contains {0} unique characters.\".format(num_chars))"
   ],
   "metadata": {
    "collapsed": false,
    "ExecuteTime": {
     "end_time": "2024-05-14T12:43:14.070511Z",
     "start_time": "2024-05-14T12:43:14.038001Z"
    }
   },
   "id": "89c5ace553da865",
   "execution_count": 18
  },
  {
   "cell_type": "code",
   "outputs": [
    {
     "name": "stdout",
     "output_type": "stream",
     "text": [
      "{'\\n': 0, '#': 1, '+': 2, ',': 3, '-': 4, '/': 5, '0': 6, '1': 7, '2': 8, '3': 9, '4': 10, '5': 11, '6': 12, '7': 13, '8': 14, '9': 15, ':': 16, '@': 17, 'A': 18, 'B': 19, 'C': 20, 'D': 21, 'E': 22, 'F': 23, 'G': 24, 'H': 25, 'I': 26, 'J': 27, 'K': 28, 'L': 29, 'M': 30, 'N': 31, 'O': 32, 'P': 33, 'Q': 34, 'R': 35, 'S': 36, 'T': 37, 'U': 38, 'V': 39, 'W': 40, 'X': 41, 'Y': 42, 'Z': 43, '\\\\': 44, 'a': 45, 'b': 46, 'c': 47, 'd': 48, 'e': 49, 'f': 50, 'g': 51, 'h': 52, 'i': 53, 'j': 54, 'k': 55, 'l': 56, 'm': 57, 'n': 58, 'o': 59, 'p': 60, 'q': 61, 'r': 62, 's': 63, 't': 64, 'u': 65, 'v': 66, 'w': 67, 'x': 68, 'y': 69, 'z': 70, '|': 71}\n",
      "{0: '\\n', 1: '#', 2: '+', 3: ',', 4: '-', 5: '/', 6: '0', 7: '1', 8: '2', 9: '3', 10: '4', 11: '5', 12: '6', 13: '7', 14: '8', 15: '9', 16: ':', 17: '@', 18: 'A', 19: 'B', 20: 'C', 21: 'D', 22: 'E', 23: 'F', 24: 'G', 25: 'H', 26: 'I', 27: 'J', 28: 'K', 29: 'L', 30: 'M', 31: 'N', 32: 'O', 33: 'P', 34: 'Q', 35: 'R', 36: 'S', 37: 'T', 38: 'U', 39: 'V', 40: 'W', 41: 'X', 42: 'Y', 43: 'Z', 44: '\\\\', 45: 'a', 46: 'b', 47: 'c', 48: 'd', 49: 'e', 50: 'f', 51: 'g', 52: 'h', 53: 'i', 54: 'j', 55: 'k', 56: 'l', 57: 'm', 58: 'n', 59: 'o', 60: 'p', 61: 'q', 62: 'r', 63: 's', 64: 't', 65: 'u', 66: 'v', 67: 'w', 68: 'x', 69: 'y', 70: 'z', 71: '|'}\n"
     ]
    }
   ],
   "source": [
    "print(encoding)\n",
    "print(decoding)"
   ],
   "metadata": {
    "collapsed": false,
    "ExecuteTime": {
     "end_time": "2024-05-14T12:43:24.441649Z",
     "start_time": "2024-05-14T12:43:24.435878Z"
    }
   },
   "id": "5255e57c1db887c0",
   "execution_count": 19
  },
  {
   "cell_type": "code",
   "outputs": [
    {
     "name": "stdout",
     "output_type": "stream",
     "text": [
      "Sliced our corpus into 795328 sentences of length 10\n"
     ]
    }
   ],
   "source": [
    "sequence_length = 10\n",
    "skip = 3\n",
    "X_data = []\n",
    "y_data = []\n",
    "for i in range (0, len(corpus) - sequence_length, skip):\n",
    "    sentence = corpus[i:i + sequence_length]\n",
    "    next_char = corpus[i + sequence_length]\n",
    "    X_data.append([encoding[char] for char in sentence])\n",
    "    y_data.append(encoding[next_char])\n",
    "\n",
    "num_sentences = len(X_data)\n",
    "print(\"Sliced our corpus into {0} sentences of length {1}\"\n",
    "      .format(num_sentences, sequence_length))"
   ],
   "metadata": {
    "collapsed": false,
    "ExecuteTime": {
     "end_time": "2024-05-14T12:43:28.182413Z",
     "start_time": "2024-05-14T12:43:26.112016Z"
    }
   },
   "id": "6107b7a7e13fd338",
   "execution_count": 20
  },
  {
   "cell_type": "code",
   "outputs": [
    {
     "name": "stdout",
     "output_type": "stream",
     "text": [
      "Encoded data[0]  : [25, 45, 63, 52, 60, 56, 45, 69, 26, 58]\n",
      "Decoded data[0]  : ['H', 'a', 's', 'h', 'p', 'l', 'a', 'y', 'I', 'n']\n",
      "Target of data[0]: c\n"
     ]
    }
   ],
   "source": [
    "print('Encoded data[0]  : {}'.format(X_data[0]))\n",
    "print('Decoded data[0]  : {}'.format([decoding[idx] for idx in X_data[0]]))\n",
    "print('Target of data[0]: {}'.format(decoding[y_data[0]]))"
   ],
   "metadata": {
    "collapsed": false,
    "ExecuteTime": {
     "end_time": "2024-05-14T12:43:33.268779Z",
     "start_time": "2024-05-14T12:43:33.261461Z"
    }
   },
   "id": "4425d25257443448",
   "execution_count": 21
  },
  {
   "cell_type": "code",
   "outputs": [
    {
     "name": "stdout",
     "output_type": "stream",
     "text": [
      "Sanity check y. Dimension: (795328, 72) # Sentences: 795328 Characters in corpus: 72\n",
      "Sanity check X. Dimension: (795328, 10, 72) Sentence length: 10\n"
     ]
    }
   ],
   "source": [
    "X = np.zeros((num_sentences, sequence_length, num_chars), dtype=bool)\n",
    "y = np.zeros((num_sentences, num_chars), dtype=bool)\n",
    "for i, sentence in enumerate(X_data):\n",
    "    for t, encoded_char in enumerate(sentence):\n",
    "        X[i, t, encoded_char] = 1\n",
    "    y[i, y_data[i]] = 1\n",
    "\n",
    "print(\"Sanity check y. Dimension: {0} # Sentences: {1} Characters in corpus: {2}\"\n",
    "      .format(y.shape, num_sentences, len(chars)))\n",
    "print(\"Sanity check X. Dimension: {0} Sentence length: {1}\"\n",
    "      .format(X.shape, sequence_length))"
   ],
   "metadata": {
    "collapsed": false,
    "ExecuteTime": {
     "end_time": "2024-05-14T13:18:52.363867Z",
     "start_time": "2024-05-14T13:18:49.439722Z"
    }
   },
   "id": "eba654ad6fb537a9",
   "execution_count": 31
  },
  {
   "cell_type": "code",
   "outputs": [
    {
     "name": "stdout",
     "output_type": "stream",
     "text": [
      "Model: \"sequential_1\"\n",
      "_________________________________________________________________\n",
      " Layer (type)                Output Shape              Param #   \n",
      "=================================================================\n",
      " simple_rnn_1 (SimpleRNN)    (None, 64)                8768      \n",
      "                                                                 \n",
      " dense_1 (Dense)             (None, 72)                4680      \n",
      "                                                                 \n",
      " activation_1 (Activation)   (None, 72)                0         \n",
      "                                                                 \n",
      "=================================================================\n",
      "Total params: 13,448\n",
      "Trainable params: 13,448\n",
      "Non-trainable params: 0\n",
      "_________________________________________________________________\n"
     ]
    }
   ],
   "source": [
    "simple = keras.models.Sequential()\n",
    "simple.add(keras.layers.SimpleRNN(64, input_shape=(sequence_length, num_chars),\n",
    "                                 return_sequences=False))\n",
    "simple.add(keras.layers.Dense(num_chars))\n",
    "simple.add(keras.layers.Activation('softmax'))\n",
    "simple.compile(loss='categorical_crossentropy', optimizer='adam',\n",
    "              metrics=['accuracy'])\n",
    "simple.summary()"
   ],
   "metadata": {
    "collapsed": false,
    "ExecuteTime": {
     "end_time": "2024-05-14T12:43:42.925790Z",
     "start_time": "2024-05-14T12:43:42.773725Z"
    }
   },
   "id": "b38207181d0bdf88",
   "execution_count": 23
  },
  {
   "cell_type": "code",
   "outputs": [
    {
     "name": "stdout",
     "output_type": "stream",
     "text": [
      "Epoch 1/10\n",
      "6214/6214 [==============================] - 96s 15ms/step - loss: 2.6948 - accuracy: 0.2793\n",
      "Epoch 2/10\n",
      "6214/6214 [==============================] - 138s 22ms/step - loss: 2.4448 - accuracy: 0.3364\n",
      "Epoch 3/10\n",
      "6214/6214 [==============================] - 146s 23ms/step - loss: 2.3675 - accuracy: 0.3563\n",
      "Epoch 4/10\n",
      "6214/6214 [==============================] - 130s 21ms/step - loss: 2.3241 - accuracy: 0.3682\n",
      "Epoch 5/10\n",
      "6214/6214 [==============================] - 126s 20ms/step - loss: 2.2950 - accuracy: 0.3754\n",
      "Epoch 6/10\n",
      "6214/6214 [==============================] - 125s 20ms/step - loss: 2.2738 - accuracy: 0.3807\n",
      "Epoch 7/10\n",
      "6214/6214 [==============================] - 92s 15ms/step - loss: 2.2577 - accuracy: 0.3847\n",
      "Epoch 8/10\n",
      "6214/6214 [==============================] - 90s 14ms/step - loss: 2.2452 - accuracy: 0.3881\n",
      "Epoch 9/10\n",
      "6214/6214 [==============================] - 89s 14ms/step - loss: 2.2359 - accuracy: 0.3903\n",
      "Epoch 10/10\n",
      "6214/6214 [==============================] - 88s 14ms/step - loss: 2.2281 - accuracy: 0.3927\n"
     ]
    },
    {
     "data": {
      "text/plain": "<Figure size 640x480 with 1 Axes>",
      "image/png": "[encoded data removed]"
     },
     "metadata": {},
     "output_type": "display_data"
    }
   ],
   "source": [
    "simple_log = simple.fit(X, y, epochs=10, batch_size=128)\n",
    "plt.plot(simple_log.history['loss'], label='Training')\n",
    "plt.legend()\n",
    "plt.grid()"
   ],
   "metadata": {
    "collapsed": false,
    "ExecuteTime": {
     "end_time": "2024-05-14T13:02:29.894151Z",
     "start_time": "2024-05-14T12:43:50.021610Z"
    }
   },
   "id": "c40391edb6e090c0",
   "execution_count": 24
  },
  {
   "cell_type": "code",
   "outputs": [
    {
     "data": {
      "text/plain": "<Figure size 640x480 with 1 Axes>",
      "image/png": "[encoded data removed]"
     },
     "metadata": {},
     "output_type": "display_data"
    }
   ],
   "source": [
    "plt.plot(simple_log.history['accuracy'], label='Training')\n",
    "plt.legend()\n",
    "plt.grid()"
   ],
   "metadata": {
    "collapsed": false,
    "ExecuteTime": {
     "end_time": "2024-05-14T13:16:15.385917Z",
     "start_time": "2024-05-14T13:16:15.199731Z"
    }
   },
   "id": "8cb090138ef1b9bc",
   "execution_count": 29
  },
  {
   "cell_type": "code",
   "outputs": [
    {
     "name": "stdout",
     "output_type": "stream",
     "text": [
      "seed = Facebookan\n",
      "FacebookanTechnologi\n"
     ]
    }
   ],
   "source": [
    "def make_seed(seed_phrase=\"\"):\n",
    "    if seed_phrase:  # make sure the seed has the right length\n",
    "        phrase_length = len(seed_phrase)\n",
    "        pattern = \"\"\n",
    "        for i in range (0, sequence_length):\n",
    "            pattern += seed_phrase[i % phrase_length]\n",
    "    else:            # sample randomly the seed from corpus\n",
    "        seed = random.randint(0, corpus_length - sequence_length)\n",
    "        pattern = corpus[seed:seed + sequence_length]\n",
    "    return pattern\n",
    "\n",
    "seed_pattern = make_seed(\"Facebook\")\n",
    "print(\"seed = \" + seed_pattern)\n",
    "\n",
    "X = np.zeros((1, sequence_length, num_chars), dtype=float)\n",
    "for i, character in enumerate(seed_pattern):\n",
    "    X[0, i, encoding[character]] = 1\n",
    "\n",
    "generated_text = \"\"\n",
    "for i in range(10):\n",
    "    output_prob = simple.predict(X, verbose=0)[0]\n",
    "    # in previous line predict() gives a tensor of shape (1, 65) \n",
    "    # with 1 being the size of the batch, for that we use [0] to get a vector\n",
    "    prediction = np.random.choice(num_chars, p = output_prob )\n",
    "    generated_text += decoding[prediction]\n",
    "    activations = np.zeros((1, 1, num_chars), dtype=bool)\n",
    "    activations[0, 0, prediction] = 1\n",
    "    #now remove first char and glue the predicted one\n",
    "    X = np.concatenate((X[:, 1:, :], activations), axis=1)\n",
    "print(seed_pattern+generated_text)"
   ],
   "metadata": {
    "collapsed": false,
    "ExecuteTime": {
     "end_time": "2024-05-14T13:14:27.742521Z",
     "start_time": "2024-05-14T13:14:26.145853Z"
    }
   },
   "id": "ac4bf01b97248569",
   "execution_count": 28
  },
  {
   "cell_type": "code",
   "outputs": [
    {
     "name": "stdout",
     "output_type": "stream",
     "text": [
      "Model: \"sequential_3\"\n",
      "_________________________________________________________________\n",
      " Layer (type)                Output Shape              Param #   \n",
      "=================================================================\n",
      " lstm_1 (LSTM)               (None, 64)                35072     \n",
      "                                                                 \n",
      " dense_3 (Dense)             (None, 72)                4680      \n",
      "                                                                 \n",
      " activation_3 (Activation)   (None, 72)                0         \n",
      "                                                                 \n",
      "=================================================================\n",
      "Total params: 39,752\n",
      "Trainable params: 39,752\n",
      "Non-trainable params: 0\n",
      "_________________________________________________________________\n"
     ]
    },
    {
     "name": "stderr",
     "output_type": "stream",
     "text": [
      "2024-05-14 15:19:22.333339: I tensorflow/core/common_runtime/executor.cc:1197] [/device:CPU:0] (DEBUG INFO) Executor start aborting (this does not indicate an error and you can ignore this message): INVALID_ARGUMENT: You must feed a value for placeholder tensor 'gradients/split_2_grad/concat/split_2/split_dim' with dtype int32\n",
      "\t [[{{node gradients/split_2_grad/concat/split_2/split_dim}}]]\n",
      "2024-05-14 15:19:22.334747: I tensorflow/core/common_runtime/executor.cc:1197] [/device:CPU:0] (DEBUG INFO) Executor start aborting (this does not indicate an error and you can ignore this message): INVALID_ARGUMENT: You must feed a value for placeholder tensor 'gradients/split_grad/concat/split/split_dim' with dtype int32\n",
      "\t [[{{node gradients/split_grad/concat/split/split_dim}}]]\n",
      "2024-05-14 15:19:22.336264: I tensorflow/core/common_runtime/executor.cc:1197] [/device:CPU:0] (DEBUG INFO) Executor start aborting (this does not indicate an error and you can ignore this message): INVALID_ARGUMENT: You must feed a value for placeholder tensor 'gradients/split_1_grad/concat/split_1/split_dim' with dtype int32\n",
      "\t [[{{node gradients/split_1_grad/concat/split_1/split_dim}}]]\n"
     ]
    },
    {
     "name": "stdout",
     "output_type": "stream",
     "text": [
      "Epoch 1/10\n"
     ]
    },
    {
     "name": "stderr",
     "output_type": "stream",
     "text": [
      "2024-05-14 15:19:23.195367: I tensorflow/core/common_runtime/executor.cc:1197] [/device:CPU:0] (DEBUG INFO) Executor start aborting (this does not indicate an error and you can ignore this message): INVALID_ARGUMENT: You must feed a value for placeholder tensor 'gradients/split_2_grad/concat/split_2/split_dim' with dtype int32\n",
      "\t [[{{node gradients/split_2_grad/concat/split_2/split_dim}}]]\n",
      "2024-05-14 15:19:23.197336: I tensorflow/core/common_runtime/executor.cc:1197] [/device:CPU:0] (DEBUG INFO) Executor start aborting (this does not indicate an error and you can ignore this message): INVALID_ARGUMENT: You must feed a value for placeholder tensor 'gradients/split_grad/concat/split/split_dim' with dtype int32\n",
      "\t [[{{node gradients/split_grad/concat/split/split_dim}}]]\n",
      "2024-05-14 15:19:23.198907: I tensorflow/core/common_runtime/executor.cc:1197] [/device:CPU:0] (DEBUG INFO) Executor start aborting (this does not indicate an error and you can ignore this message): INVALID_ARGUMENT: You must feed a value for placeholder tensor 'gradients/split_1_grad/concat/split_1/split_dim' with dtype int32\n",
      "\t [[{{node gradients/split_1_grad/concat/split_1/split_dim}}]]\n",
      "2024-05-14 15:19:24.151749: I tensorflow/core/common_runtime/executor.cc:1197] [/device:CPU:0] (DEBUG INFO) Executor start aborting (this does not indicate an error and you can ignore this message): INVALID_ARGUMENT: You must feed a value for placeholder tensor 'gradients/split_2_grad/concat/split_2/split_dim' with dtype int32\n",
      "\t [[{{node gradients/split_2_grad/concat/split_2/split_dim}}]]\n",
      "2024-05-14 15:19:24.154301: I tensorflow/core/common_runtime/executor.cc:1197] [/device:CPU:0] (DEBUG INFO) Executor start aborting (this does not indicate an error and you can ignore this message): INVALID_ARGUMENT: You must feed a value for placeholder tensor 'gradients/split_grad/concat/split/split_dim' with dtype int32\n",
      "\t [[{{node gradients/split_grad/concat/split/split_dim}}]]\n",
      "2024-05-14 15:19:24.159144: I tensorflow/core/common_runtime/executor.cc:1197] [/device:CPU:0] (DEBUG INFO) Executor start aborting (this does not indicate an error and you can ignore this message): INVALID_ARGUMENT: You must feed a value for placeholder tensor 'gradients/split_1_grad/concat/split_1/split_dim' with dtype int32\n",
      "\t [[{{node gradients/split_1_grad/concat/split_1/split_dim}}]]\n"
     ]
    },
    {
     "name": "stdout",
     "output_type": "stream",
     "text": [
      "6214/6214 [==============================] - 191s 30ms/step - loss: 2.7204 - accuracy: 0.2654\n",
      "Epoch 2/10\n",
      "6214/6214 [==============================] - 171s 28ms/step - loss: 2.3478 - accuracy: 0.3593\n",
      "Epoch 3/10\n",
      "6214/6214 [==============================] - 219s 35ms/step - loss: 2.2382 - accuracy: 0.3901\n",
      "Epoch 4/10\n",
      "6214/6214 [==============================] - 237s 38ms/step - loss: 2.1805 - accuracy: 0.4061\n",
      "Epoch 5/10\n",
      "6214/6214 [==============================] - 246s 40ms/step - loss: 2.1421 - accuracy: 0.4169\n",
      "Epoch 6/10\n",
      "6214/6214 [==============================] - 206s 33ms/step - loss: 2.1143 - accuracy: 0.4246\n",
      "Epoch 7/10\n",
      "6214/6214 [==============================] - 182s 29ms/step - loss: 2.0930 - accuracy: 0.4300\n",
      "Epoch 8/10\n",
      "6214/6214 [==============================] - 181s 29ms/step - loss: 2.0762 - accuracy: 0.4344\n",
      "Epoch 9/10\n",
      "6214/6214 [==============================] - 228s 37ms/step - loss: 2.0619 - accuracy: 0.4380\n",
      "Epoch 10/10\n",
      "6214/6214 [==============================] - 267s 43ms/step - loss: 2.0500 - accuracy: 0.4411\n"
     ]
    },
    {
     "data": {
      "text/plain": "<Figure size 1200x800 with 1 Axes>",
      "image/png": "[encoded data removed]"
     },
     "metadata": {},
     "output_type": "display_data"
    }
   ],
   "source": [
    "lstm = keras.models.Sequential()\n",
    "lstm.add(keras.layers.LSTM(64, input_shape=(sequence_length, num_chars),\n",
    "                                  return_sequences=False))\n",
    "lstm.add(keras.layers.Dense(num_chars))\n",
    "lstm.add(keras.layers.Activation('softmax'))\n",
    "lstm.compile(loss='categorical_crossentropy', optimizer='adam',\n",
    "               metrics=['accuracy'])\n",
    "lstm.summary()\n",
    "\n",
    "lstm_log = lstm.fit(X, y, epochs=10, batch_size=128)\n",
    "\n",
    "fig, axes = plt.subplots(figsize=(12,8))\n",
    "axes.plot(simple_log.history['accuracy'], label='Accuracy')\n",
    "axes.plot(simple_log.history['loss'], label='Loss')\n",
    "\n",
    "plt.legend()\n",
    "plt.grid()"
   ],
   "metadata": {
    "collapsed": false,
    "ExecuteTime": {
     "end_time": "2024-05-14T13:54:52.323459Z",
     "start_time": "2024-05-14T13:19:22.087520Z"
    }
   },
   "id": "5a9641a018ef9f3b",
   "execution_count": 32
  },
  {
   "cell_type": "code",
   "outputs": [
    {
     "ename": "KeyError",
     "evalue": "'val_loss'",
     "output_type": "error",
     "traceback": [
      "\u001B[0;31m---------------------------------------------------------------------------\u001B[0m",
      "\u001B[0;31mKeyError\u001B[0m                                  Traceback (most recent call last)",
      "Cell \u001B[0;32mIn[34], line 5\u001B[0m\n\u001B[1;32m      3\u001B[0m plt\u001B[38;5;241m.\u001B[39msubplot(\u001B[38;5;241m1\u001B[39m, \u001B[38;5;241m2\u001B[39m, \u001B[38;5;241m1\u001B[39m)\n\u001B[1;32m      4\u001B[0m plt\u001B[38;5;241m.\u001B[39mplot(simple_log\u001B[38;5;241m.\u001B[39mhistory[\u001B[38;5;124m'\u001B[39m\u001B[38;5;124mloss\u001B[39m\u001B[38;5;124m'\u001B[39m], label\u001B[38;5;241m=\u001B[39m\u001B[38;5;124m'\u001B[39m\u001B[38;5;124mTraining Loss\u001B[39m\u001B[38;5;124m'\u001B[39m)\n\u001B[0;32m----> 5\u001B[0m plt\u001B[38;5;241m.\u001B[39mplot(\u001B[43msimple_log\u001B[49m\u001B[38;5;241;43m.\u001B[39;49m\u001B[43mhistory\u001B[49m\u001B[43m[\u001B[49m\u001B[38;5;124;43m'\u001B[39;49m\u001B[38;5;124;43mval_loss\u001B[39;49m\u001B[38;5;124;43m'\u001B[39;49m\u001B[43m]\u001B[49m, label\u001B[38;5;241m=\u001B[39m\u001B[38;5;124m'\u001B[39m\u001B[38;5;124mValidation Loss\u001B[39m\u001B[38;5;124m'\u001B[39m)\n\u001B[1;32m      6\u001B[0m plt\u001B[38;5;241m.\u001B[39mtitle(\u001B[38;5;124m'\u001B[39m\u001B[38;5;124mLoss Over Epochs\u001B[39m\u001B[38;5;124m'\u001B[39m)\n\u001B[1;32m      7\u001B[0m plt\u001B[38;5;241m.\u001B[39mxlabel(\u001B[38;5;124m'\u001B[39m\u001B[38;5;124mEpochs\u001B[39m\u001B[38;5;124m'\u001B[39m)\n",
      "\u001B[0;31mKeyError\u001B[0m: 'val_loss'"
     ]
    },
    {
     "data": {
      "text/plain": "<Figure size 1200x400 with 1 Axes>",
      "image/png": "[encoded data removed]"
     },
     "metadata": {},
     "output_type": "display_data"
    }
   ],
   "source": [
    "plt.figure(figsize=(12, 4))\n",
    "\n",
    "plt.subplot(1, 2, 1)\n",
    "plt.plot(simple_log.history['loss'], label='Training Loss')\n",
    "plt.plot(simple_log.history['val_loss'], label='Validation Loss')\n",
    "plt.title('Loss Over Epochs')\n",
    "plt.xlabel('Epochs')\n",
    "plt.ylabel('Loss')\n",
    "plt.legend()\n",
    "\n",
    "plt.subplot(1, 2, 2)\n",
    "plt.plot(simple_log.history['accuracy'], label='Training Accuracy')\n",
    "plt.plot(simple_log.history['val_accuracy'], label='Validation Accuracy')\n",
    "plt.title('Accuracy Over Epochs')\n",
    "plt.xlabel('Epochs')\n",
    "plt.ylabel('Accuracy')\n",
    "plt.legend()\n",
    "\n",
    "plt.show()"
   ],
   "metadata": {
    "collapsed": false,
    "ExecuteTime": {
     "end_time": "2024-05-14T15:38:38.536322Z",
     "start_time": "2024-05-14T15:38:38.333139Z"
    }
   },
   "id": "d6bb14c8f1507652",
   "execution_count": 34
  },
  {
   "cell_type": "code",
   "outputs": [
    {
     "name": "stdout",
     "output_type": "stream",
     "text": [
      "seed = FacebookFa\n"
     ]
    },
    {
     "name": "stderr",
     "output_type": "stream",
     "text": [
      "2024-05-14 15:55:31.838878: I tensorflow/core/common_runtime/executor.cc:1197] [/device:CPU:0] (DEBUG INFO) Executor start aborting (this does not indicate an error and you can ignore this message): INVALID_ARGUMENT: You must feed a value for placeholder tensor 'gradients/split_2_grad/concat/split_2/split_dim' with dtype int32\n",
      "\t [[{{node gradients/split_2_grad/concat/split_2/split_dim}}]]\n",
      "2024-05-14 15:55:31.841047: I tensorflow/core/common_runtime/executor.cc:1197] [/device:CPU:0] (DEBUG INFO) Executor start aborting (this does not indicate an error and you can ignore this message): INVALID_ARGUMENT: You must feed a value for placeholder tensor 'gradients/split_grad/concat/split/split_dim' with dtype int32\n",
      "\t [[{{node gradients/split_grad/concat/split/split_dim}}]]\n",
      "2024-05-14 15:55:31.842788: I tensorflow/core/common_runtime/executor.cc:1197] [/device:CPU:0] (DEBUG INFO) Executor start aborting (this does not indicate an error and you can ignore this message): INVALID_ARGUMENT: You must feed a value for placeholder tensor 'gradients/split_1_grad/concat/split_1/split_dim' with dtype int32\n",
      "\t [[{{node gradients/split_1_grad/concat/split_1/split_dim}}]]\n"
     ]
    },
    {
     "name": "stdout",
     "output_type": "stream",
     "text": [
      "FacebookFabsan\n",
      "Penst\n"
     ]
    }
   ],
   "source": [
    "seed_pattern = make_seed(\"Facebook\")\n",
    "print(\"seed = \" + seed_pattern)\n",
    "\n",
    "X = np.zeros((1, sequence_length, num_chars), dtype=float)\n",
    "for i, character in enumerate(seed_pattern):\n",
    "    X[0, i, encoding[character]] = 1\n",
    "\n",
    "generated_text = \"\"\n",
    "for i in range(10):\n",
    "    output_prob = lstm.predict(X, verbose=0)[0]\n",
    "    # in previous line predict() gives a tensor of shape (1, 65) \n",
    "    # with 1 being the size of the batch, for that we use [0] to get a vector\n",
    "    prediction = np.random.choice(num_chars, p = output_prob )\n",
    "    generated_text += decoding[prediction]\n",
    "    activations = np.zeros((1, 1, num_chars), dtype=bool)\n",
    "    activations[0, 0, prediction] = 1\n",
    "    #now remove first char and glue the predicted one\n",
    "    X = np.concatenate((X[:, 1:, :], activations), axis=1)\n",
    "print(seed_pattern+generated_text)"
   ],
   "metadata": {
    "collapsed": false,
    "ExecuteTime": {
     "end_time": "2024-05-14T13:55:33.225678Z",
     "start_time": "2024-05-14T13:55:31.479048Z"
    }
   },
   "id": "51e2ae9dac69bd45",
   "execution_count": 33
  },
  {
   "cell_type": "markdown",
   "source": [
    "Despite using a model with LSTM layers, the performance was poor, with very low accuracy and meaningless outputs.\n",
    "Issues Identified:\n",
    "   - Low Accuracy: The model struggled to learn the patterns in the data.\n",
    "   - Incoherent Output: Generated names were often random and nonsensical.\n",
    "\n",
    "Our Model with Dense or LSTM layers didn't generate meaningful startup names, showing low accuracy and poor outputs. We think improving data preprocessing and increasing model complexity will help. Exploring advanced architectures like GRU or Transformers might also give us better results."
   ],
   "metadata": {
    "collapsed": false
   },
   "id": "eb11fbac6300c5f4"
  }
 ],
 "metadata": {
  "kernelspec": {
   "display_name": "Python 3",
   "language": "python",
   "name": "python3"
  },
  "language_info": {
   "codemirror_mode": {
    "name": "ipython",
    "version": 2
   },
   "file_extension": ".py",
   "mimetype": "text/x-python",
   "name": "python",
   "nbconvert_exporter": "python",
   "pygments_lexer": "ipython2",
   "version": "2.7.6"
  }
 },
 "nbformat": 4,
 "nbformat_minor": 5
}
