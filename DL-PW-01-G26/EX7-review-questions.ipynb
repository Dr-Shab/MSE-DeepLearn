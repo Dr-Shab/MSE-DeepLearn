{
 "cells": [
  {
   "cell_type": "markdown",
   "metadata": {},
   "source": [
    "###  1. Supervised vs. unsupervised systems\n",
    "\n",
    "Of the following examples, which one would you address using a supervised or an unsupervised\n",
    "learning algorithm ? Give some explanations for your answers."
   ]
  },
  {
   "cell_type": "markdown",
   "metadata": {},
   "source": [
    "a) Given email labeled as spam/not spam, learn a spam filter."
   ]
  },
  {
   "cell_type": "code",
   "execution_count": null,
   "metadata": {
    "vscode": {
     "languageId": "plaintext"
    }
   },
   "outputs": [],
   "source": [
    "We will use supervised learning algorithm. In this case, we have labeled data: emails marked as \"spam\" or \"non-spam\"."
   ]
  },
  {
   "cell_type": "markdown",
   "metadata": {},
   "source": [
    "b) Given a set of news articles found on the web, group them into sets of related articles."
   ]
  },
  {
   "cell_type": "code",
   "execution_count": null,
   "metadata": {
    "vscode": {
     "languageId": "plaintext"
    }
   },
   "outputs": [],
   "source": [
    "We will use unsupervised learning algorithm. Here, we don't have labeled data. Instead, we want to discover patterns or relationships in news articles."
   ]
  },
  {
   "cell_type": "markdown",
   "metadata": {},
   "source": [
    "c) Given a database of customer data, automatically discover market segments and group\n",
    "customers into different market segments."
   ]
  },
  {
   "cell_type": "code",
   "execution_count": null,
   "metadata": {
    "vscode": {
     "languageId": "plaintext"
    }
   },
   "outputs": [],
   "source": [
    "We will use unsupervised learning algorithm. Similar to the news articles scenario, we want to find natural groupings within the customer data."
   ]
  },
  {
   "cell_type": "markdown",
   "metadata": {},
   "source": [
    "d) Given a dataset of patients diagnosed as either having glaucoma or not, learn to classify\n",
    "new patients as having glaucoma or not."
   ]
  },
  {
   "cell_type": "code",
   "execution_count": null,
   "metadata": {
    "vscode": {
     "languageId": "plaintext"
    }
   },
   "outputs": [],
   "source": [
    "We will use supervised learning algorithm. In this case, we have labeled data: patients with known glaucoma status"
   ]
  },
  {
   "cell_type": "markdown",
   "metadata": {},
   "source": [
    "###  2. Classification vs. regression systems\n",
    "\n",
    "Can we transform a regression problem into a classification problem ? What would be the\n",
    "benefits of doing so ?"
   ]
  },
  {
   "cell_type": "code",
   "execution_count": null,
   "metadata": {
    "vscode": {
     "languageId": "plaintext"
    }
   },
   "outputs": [],
   "source": [
    "Certainly! We can benefit from this robustness by transforming regression problems into classification problems, \n",
    "especially when dealing with noisy or imperfect data, which are often easier to understand than regression problems."
   ]
  },
  {
   "cell_type": "markdown",
   "metadata": {},
   "source": [
    "###  3.  Numpy arrays"
   ]
  },
  {
   "cell_type": "markdown",
   "metadata": {},
   "source": [
    "a) What are the main differences between a Python list and a numpy array ?"
   ]
  },
  {
   "cell_type": "code",
   "execution_count": null,
   "metadata": {
    "vscode": {
     "languageId": "plaintext"
    }
   },
   "outputs": [],
   "source": [
    "Python lists offer flexibility, especially datatype inconsistency, \n",
    "while NumPy arrays are superior in terms of memory efficiency, performance, and ease of math operations."
   ]
  },
  {
   "cell_type": "markdown",
   "metadata": {},
   "source": [
    "b) Can we mix different types of data in a numpy array ?\n"
   ]
  },
  {
   "cell_type": "code",
   "execution_count": null,
   "metadata": {
    "vscode": {
     "languageId": "plaintext"
    }
   },
   "outputs": [],
   "source": [
    "No."
   ]
  },
  {
   "cell_type": "markdown",
   "metadata": {},
   "source": [
    "c) Define what is the rank in a numpy array."
   ]
  },
  {
   "cell_type": "markdown",
   "metadata": {},
   "source": [
    "The term “rank” refers to the number of dimensions or axes of the array."
   ]
  },
  {
   "cell_type": "markdown",
   "metadata": {},
   "source": [
    "d) If we load a gray-level image in a numpy array, what is the rank of this array ? Explain the\n",
    "different dimensions. Give a potential value of the shape attribute for a square images."
   ]
  },
  {
   "cell_type": "code",
   "execution_count": null,
   "metadata": {
    "vscode": {
     "languageId": "plaintext"
    }
   },
   "outputs": [],
   "source": [
    "rank 2.\n",
    "\n",
    "1. Rank 0 (Scalar):\n",
    "    - A rank-0 array is a single value (scalar).\n",
    "    - Example: 5 or 3.14\n",
    "\n",
    "2. Rank 1 (1D Array or Vector):\n",
    "    - A rank-1 array has one dimension (axis).\n",
    "    - Example: [1, 2, 3] or np.array([10, 20, 30])\n",
    "\n",
    "3. Rank 2 (2D Array or Matrix):\n",
    "    - A rank-2 array has two dimensions (rows and columns).\n",
    "    - Example: [[1, 2], [3, 4]] or np.array([[1, 2], [3, 4]])\n",
    "\n",
    "4. Higher Ranks (3D, 4D, etc.):\n",
    "    - For example, a rank-3 array represents a 3D volume, and a rank-4 array represents a 4D tensor."
   ]
  },
  {
   "cell_type": "markdown",
   "metadata": {},
   "source": [
    "e) Regarding the previous point, what would be the difference with a color image ?"
   ]
  },
  {
   "cell_type": "code",
   "execution_count": null,
   "metadata": {
    "vscode": {
     "languageId": "plaintext"
    }
   },
   "outputs": [],
   "source": [
    "Color image arrays are usually represented as (height, width, channel). Thus, the rank of a color image is 3."
   ]
  }
 ],
 "metadata": {
  "language_info": {
   "name": "python"
  },
  "orig_nbformat": 4
 },
 "nbformat": 4,
 "nbformat_minor": 2
}
